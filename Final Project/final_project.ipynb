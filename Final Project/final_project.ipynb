{
 "cells": [
  {
   "attachments": {},
   "cell_type": "markdown",
   "metadata": {},
   "source": [
    "# CS676 Algorithms for Data Science\n",
    "## Final Project\n",
    "\n",
    "Aayushi Verma"
   ]
  },
  {
   "cell_type": "code",
   "execution_count": 1,
   "metadata": {},
   "outputs": [],
   "source": [
    "# importing packages for data cleaning, visualization, and EDA\n",
    "import numpy as np\n",
    "import matplotlib.pyplot as plt\n",
    "import pandas as pd\n",
    "from sklearn import preprocessing \n",
    "import scipy.cluster.hierarchy as sch\n",
    "from sklearn.cluster import AgglomerativeClustering \n",
    "import warnings\n",
    "warnings.filterwarnings(\"ignore\", category=DeprecationWarning)\n",
    "warnings.filterwarnings(\"ignore\", category=FutureWarning)"
   ]
  },
  {
   "cell_type": "code",
   "execution_count": 10,
   "metadata": {},
   "outputs": [],
   "source": [
    "import sys  \n",
    "sys.path.insert(0, '/Users/av15397n/Documents/GitHub/CS676-Algorithms-For-Data-Science/Final Project/')\n",
    "\n",
    "from utils import *"
   ]
  },
  {
   "cell_type": "code",
   "execution_count": null,
   "metadata": {},
   "outputs": [],
   "source": [
    "# reading the raw CSV data file\n",
    "penguins = pd.read_csv(\"data/penguins.csv\")"
   ]
  },
  {
   "cell_type": "code",
   "execution_count": null,
   "metadata": {},
   "outputs": [],
   "source": [
    "penguins.head()"
   ]
  },
  {
   "cell_type": "code",
   "execution_count": null,
   "metadata": {},
   "outputs": [],
   "source": [
    "penguins.shape"
   ]
  },
  {
   "cell_type": "code",
   "execution_count": null,
   "metadata": {},
   "outputs": [],
   "source": [
    "penguins.describe()"
   ]
  },
  {
   "cell_type": "code",
   "execution_count": null,
   "metadata": {},
   "outputs": [],
   "source": [
    "penguins.isnull().sum()"
   ]
  },
  {
   "cell_type": "code",
   "execution_count": null,
   "metadata": {},
   "outputs": [],
   "source": [
    "df = penguins[[\"bill_length_mm\",\"bill_depth_mm\"]].dropna()"
   ]
  },
  {
   "cell_type": "code",
   "execution_count": null,
   "metadata": {},
   "outputs": [],
   "source": [
    "df"
   ]
  },
  {
   "cell_type": "code",
   "execution_count": 7,
   "metadata": {},
   "outputs": [],
   "source": [
    "df = pd.DataFrame(\n",
    "    {\n",
    "        'x':[4,8,15,24,24],\n",
    "        'y':[4,4,8,4,12]\n",
    "    }\n",
    ")"
   ]
  },
  {
   "cell_type": "code",
   "execution_count": null,
   "metadata": {},
   "outputs": [],
   "source": [
    "df"
   ]
  },
  {
   "cell_type": "code",
   "execution_count": 23,
   "metadata": {},
   "outputs": [],
   "source": [
    "import numpy as np\n",
    "import pandas as pd\n",
    "\n",
    "def min_value_location(df):\n",
    "    row_idx_of_min_values_in_df = df.idxmin(axis=0,numeric_only=True).values.tolist()\n",
    "    col_idx_of_min_values_in_df = df.idxmin(axis=1,numeric_only=True).values.tolist()\n",
    "    lst_of_min_values_in_df = df.min(numeric_only=True).values.tolist()\n",
    "    min_value = min(lst_of_min_values_in_df)\n",
    "    idx_of_min_value = lst_of_min_values_in_df.index(min_value)\n",
    "    idx_of_min_row_in_df = row_idx_of_min_values_in_df[idx_of_min_value]\n",
    "    idx_of_min_col_in_df = col_idx_of_min_values_in_df[idx_of_min_value]\n",
    "    new_cluster_location = [idx_of_min_row_in_df,int(idx_of_min_col_in_df)]\n",
    "    return new_cluster_location, min_value\n",
    "\n",
    "def l1(given_point,x,y):\n",
    "    # Function to determine Manhattan distance, L1.\n",
    "    d_l1 = []\n",
    "    d = len(x) # assumes len(x) = len(y)\n",
    "    for i in range(d):\n",
    "        d_sum = (given_point[0] - x[i]) + (given_point[1] - y[i])\n",
    "        d_l1.append(d_sum)\n",
    "    return d_l1\n",
    "\n",
    "def l2(given_point,x,y):\n",
    "    # Function to determine Euclidean distance, L2.\n",
    "    d_l2 = []\n",
    "    d = len(x) # assumes len(x) = len(y)\n",
    "    for i in range(d):\n",
    "        d_sum = np.sqrt(((given_point[0] - x[i]) ** 2) + ((given_point[1] - y[i]) ** 2))\n",
    "        d_l2.append(d_sum)\n",
    "    return d_l2\n",
    "\n",
    "def l3(given_point, x, y, p):\n",
    "    # Function to determine Minkowski distance, L3.\n",
    "    d_l3 = []\n",
    "    d = len(x) # assumes len(x) = len(y)\n",
    "    for i in range(d):\n",
    "        d_sum = (((given_point[0] - x[i]) ** p) + ((given_point[1] - y[i]) ** p)) ** (1 / p)\n",
    "        d_l3.append(d_sum)\n",
    "    return d_l3\n",
    "\n",
    "# step 1: initialize df\n",
    "def initialize_cluster(df, distance_measure='l2'):\n",
    "    df2 = []\n",
    "    for i in range(len(df)):\n",
    "        given_point = df.iloc[i]\n",
    "\n",
    "        if distance_measure == 'l2':\n",
    "            df2.append(l2(given_point,df['x'],df['y']))\n",
    "        else:\n",
    "            # dummy clause for now\n",
    "            df2.append(l2(given_point,df['x'],df['y']))\n",
    "\n",
    "    df3 = pd.DataFrame(df2)\n",
    "    # df3 = df3.drop(0, axis=1)\n",
    "    blank_value = pd.NA\n",
    "    df3[0] = blank_value\n",
    "    # for i in range(1,len(df3)):\n",
    "    for i in range(len(df3)):\n",
    "        df3.loc[i:,i] = blank_value\n",
    "    df3.drop(4,axis=0,inplace=True) # generatlize this [-1]\n",
    "\n",
    "    return df3\n",
    "\n",
    "def complete_linkage(df1):\n",
    "    return df1.max()\n",
    "\n",
    "def old_cluster(df1, new_cluster):\n",
    "    # df2 = df1.iloc[[new_cluster[0],new_cluster[1]],:]\n",
    "    df2 = df1.loc[[new_cluster[0],new_cluster[1]],:]\n",
    "    \n",
    "    # df2.drop(new_cluster[1],axis=1,inplace=True)\n",
    "    df2.drop(new_cluster[0],axis=1,inplace=True)\n",
    "\n",
    "    df1.drop([new_cluster[0]+1,new_cluster[1]+1],axis=1,inplace=True)\n",
    "    df1.drop(new_cluster,axis=0,inplace=True)\n",
    "    return df1, df2\n",
    "\n",
    "def clustering_iteration(df1, linkage_type='complete'):\n",
    "    new_cluster, min_value = min_value_location(df1)\n",
    "    df1, df2 = old_cluster(df1, new_cluster)\n",
    "\n",
    "    df1[df1.columns[-1]+1] = pd.Series()\n",
    "    # df1 = df1.concat(pd.Series(name=df1.index[-1]+1), ignore_index=False)\n",
    "    df1 = pd.concat([df1, pd.Series(name=df1.index[-1]+1)], ignore_index=False)\n",
    "\n",
    "    if linkage_type == 'complete':\n",
    "        df1[df1.columns[-1]] = complete_linkage(df2)\n",
    "    else:\n",
    "        # dummy clause for now\n",
    "        df1[df1.columns[-1]] = complete_linkage(df2)\n",
    "\n",
    "    return df1"
   ]
  },
  {
   "cell_type": "code",
   "execution_count": 24,
   "metadata": {},
   "outputs": [
    {
     "data": {
      "text/html": [
       "<div>\n",
       "<style scoped>\n",
       "    .dataframe tbody tr th:only-of-type {\n",
       "        vertical-align: middle;\n",
       "    }\n",
       "\n",
       "    .dataframe tbody tr th {\n",
       "        vertical-align: top;\n",
       "    }\n",
       "\n",
       "    .dataframe thead th {\n",
       "        text-align: right;\n",
       "    }\n",
       "</style>\n",
       "<table border=\"1\" class=\"dataframe\">\n",
       "  <thead>\n",
       "    <tr style=\"text-align: right;\">\n",
       "      <th></th>\n",
       "      <th>0</th>\n",
       "      <th>1</th>\n",
       "      <th>2</th>\n",
       "      <th>3</th>\n",
       "      <th>4</th>\n",
       "    </tr>\n",
       "  </thead>\n",
       "  <tbody>\n",
       "    <tr>\n",
       "      <th>0</th>\n",
       "      <td>&lt;NA&gt;</td>\n",
       "      <td>4.0</td>\n",
       "      <td>11.704700</td>\n",
       "      <td>20.000000</td>\n",
       "      <td>21.540659</td>\n",
       "    </tr>\n",
       "    <tr>\n",
       "      <th>1</th>\n",
       "      <td>&lt;NA&gt;</td>\n",
       "      <td>NaN</td>\n",
       "      <td>8.062258</td>\n",
       "      <td>16.000000</td>\n",
       "      <td>17.888544</td>\n",
       "    </tr>\n",
       "    <tr>\n",
       "      <th>2</th>\n",
       "      <td>&lt;NA&gt;</td>\n",
       "      <td>NaN</td>\n",
       "      <td>NaN</td>\n",
       "      <td>9.848858</td>\n",
       "      <td>9.848858</td>\n",
       "    </tr>\n",
       "    <tr>\n",
       "      <th>3</th>\n",
       "      <td>&lt;NA&gt;</td>\n",
       "      <td>NaN</td>\n",
       "      <td>NaN</td>\n",
       "      <td>NaN</td>\n",
       "      <td>8.000000</td>\n",
       "    </tr>\n",
       "  </tbody>\n",
       "</table>\n",
       "</div>"
      ],
      "text/plain": [
       "      0    1          2          3          4\n",
       "0  <NA>  4.0  11.704700  20.000000  21.540659\n",
       "1  <NA>  NaN   8.062258  16.000000  17.888544\n",
       "2  <NA>  NaN        NaN   9.848858   9.848858\n",
       "3  <NA>  NaN        NaN        NaN   8.000000"
      ]
     },
     "execution_count": 24,
     "metadata": {},
     "output_type": "execute_result"
    }
   ],
   "source": [
    "df3 = initialize_cluster(df, distance_measure='l2')\n",
    "df3"
   ]
  },
  {
   "cell_type": "code",
   "execution_count": 25,
   "metadata": {},
   "outputs": [
    {
     "data": {
      "text/html": [
       "<div>\n",
       "<style scoped>\n",
       "    .dataframe tbody tr th:only-of-type {\n",
       "        vertical-align: middle;\n",
       "    }\n",
       "\n",
       "    .dataframe tbody tr th {\n",
       "        vertical-align: top;\n",
       "    }\n",
       "\n",
       "    .dataframe thead th {\n",
       "        text-align: right;\n",
       "    }\n",
       "</style>\n",
       "<table border=\"1\" class=\"dataframe\">\n",
       "  <thead>\n",
       "    <tr style=\"text-align: right;\">\n",
       "      <th></th>\n",
       "      <th>0</th>\n",
       "      <th>3</th>\n",
       "      <th>4</th>\n",
       "      <th>5</th>\n",
       "    </tr>\n",
       "  </thead>\n",
       "  <tbody>\n",
       "    <tr>\n",
       "      <th>2</th>\n",
       "      <td>NaN</td>\n",
       "      <td>9.848858</td>\n",
       "      <td>9.848858</td>\n",
       "      <td>11.7047</td>\n",
       "    </tr>\n",
       "    <tr>\n",
       "      <th>3</th>\n",
       "      <td>NaN</td>\n",
       "      <td>NaN</td>\n",
       "      <td>8.000000</td>\n",
       "      <td>20.0000</td>\n",
       "    </tr>\n",
       "  </tbody>\n",
       "</table>\n",
       "</div>"
      ],
      "text/plain": [
       "     0         3         4        5\n",
       "2  NaN  9.848858  9.848858  11.7047\n",
       "3  NaN       NaN  8.000000  20.0000"
      ]
     },
     "execution_count": 25,
     "metadata": {},
     "output_type": "execute_result"
    }
   ],
   "source": [
    "df7 = clustering_iteration(df3, linkage_type='complete')\n",
    "df7"
   ]
  }
 ],
 "metadata": {
  "kernelspec": {
   "display_name": "Python 3",
   "language": "python",
   "name": "python3"
  },
  "language_info": {
   "codemirror_mode": {
    "name": "ipython",
    "version": 3
   },
   "file_extension": ".py",
   "mimetype": "text/x-python",
   "name": "python",
   "nbconvert_exporter": "python",
   "pygments_lexer": "ipython3",
   "version": "3.10.5"
  },
  "orig_nbformat": 4,
  "vscode": {
   "interpreter": {
    "hash": "aee8b7b246df8f9039afb4144a1f6fd8d2ca17a180786b69acc140d282b71a49"
   }
  }
 },
 "nbformat": 4,
 "nbformat_minor": 2
}
