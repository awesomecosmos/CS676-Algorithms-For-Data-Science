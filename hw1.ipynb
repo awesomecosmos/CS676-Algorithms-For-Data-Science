{
 "cells": [
  {
   "cell_type": "code",
   "execution_count": 1,
   "metadata": {},
   "outputs": [],
   "source": [
    "import numpy as np\n",
    "import statistics as st"
   ]
  },
  {
   "attachments": {},
   "cell_type": "markdown",
   "metadata": {},
   "source": [
    "# Question One\n",
    "Consider the following three univariate data sets."
   ]
  },
  {
   "cell_type": "code",
   "execution_count": 2,
   "metadata": {},
   "outputs": [],
   "source": [
    "X = [3,1,2,3,1,4,3,3]\n",
    "Y = [1,4,3,1,1,3]\n",
    "Z = [3,3,1,4,2,1,4,2]"
   ]
  },
  {
   "attachments": {},
   "cell_type": "markdown",
   "metadata": {},
   "source": [
    "### a) Write a code for the mean."
   ]
  },
  {
   "cell_type": "code",
   "execution_count": 3,
   "metadata": {},
   "outputs": [],
   "source": [
    "def mean(lst):\n",
    "    return (sum(lst)/len(lst))"
   ]
  },
  {
   "cell_type": "code",
   "execution_count": 4,
   "metadata": {},
   "outputs": [
    {
     "name": "stdout",
     "output_type": "stream",
     "text": [
      "2.5\n",
      "2.1666666666666665\n",
      "2.5\n"
     ]
    }
   ],
   "source": [
    "print(mean(X))\n",
    "print(mean(Y))\n",
    "print(mean(Z))"
   ]
  },
  {
   "cell_type": "code",
   "execution_count": 5,
   "metadata": {},
   "outputs": [
    {
     "name": "stdout",
     "output_type": "stream",
     "text": [
      "2.5\n",
      "2.1666666666666665\n",
      "2.5\n"
     ]
    }
   ],
   "source": [
    "print(np.mean(X))\n",
    "print(np.mean(Y))\n",
    "print(np.mean(Z))"
   ]
  },
  {
   "attachments": {},
   "cell_type": "markdown",
   "metadata": {},
   "source": [
    "### b) Write a code for the median."
   ]
  },
  {
   "cell_type": "code",
   "execution_count": 6,
   "metadata": {},
   "outputs": [],
   "source": [
    "def median(lst):\n",
    "    lst = np.sort(lst)\n",
    "    n = len(lst)\n",
    "    floor = int(np.floor((n + 1) / 2))\n",
    "    ceil = int(np.ceil((n + 1) / 2))\n",
    "    median = 0.5 * (lst[floor - 1] + lst[ceil - 1])\n",
    "    return median"
   ]
  },
  {
   "cell_type": "code",
   "execution_count": 7,
   "metadata": {},
   "outputs": [
    {
     "name": "stdout",
     "output_type": "stream",
     "text": [
      "3.0\n",
      "2.0\n",
      "2.5\n"
     ]
    }
   ],
   "source": [
    "print(median(X))\n",
    "print(median(Y))\n",
    "print(median(Z))"
   ]
  },
  {
   "cell_type": "code",
   "execution_count": 8,
   "metadata": {},
   "outputs": [
    {
     "name": "stdout",
     "output_type": "stream",
     "text": [
      "3.0\n",
      "2.0\n",
      "2.5\n"
     ]
    }
   ],
   "source": [
    "print(np.median(X))\n",
    "print(np.median(Y))\n",
    "print(np.median(Z))"
   ]
  },
  {
   "attachments": {},
   "cell_type": "markdown",
   "metadata": {},
   "source": [
    "### c) Write a code for the mode."
   ]
  },
  {
   "cell_type": "code",
   "execution_count": 9,
   "metadata": {},
   "outputs": [],
   "source": [
    "def mode(lst):\n",
    "    lst = np.sort(lst)\n",
    "    return (st.mode(lst))"
   ]
  },
  {
   "cell_type": "code",
   "execution_count": 10,
   "metadata": {},
   "outputs": [
    {
     "name": "stdout",
     "output_type": "stream",
     "text": [
      "3\n",
      "1\n",
      "1\n"
     ]
    }
   ],
   "source": [
    "print(mode(X))\n",
    "print(mode(Y))\n",
    "print(mode(Z))"
   ]
  },
  {
   "attachments": {},
   "cell_type": "markdown",
   "metadata": {},
   "source": [
    "### d) Write a geometric mean."
   ]
  },
  {
   "cell_type": "code",
   "execution_count": 11,
   "metadata": {},
   "outputs": [],
   "source": [
    "def geom_mean(lst):\n",
    "    lst = np.sort(lst)\n",
    "    n = len(lst)\n",
    "    product = lst[0]\n",
    "    for i in lst[1:]:\n",
    "        product *= i\n",
    "    geom_mean = product ** (1 / n)\n",
    "    return (geom_mean)"
   ]
  },
  {
   "cell_type": "code",
   "execution_count": 12,
   "metadata": {},
   "outputs": [
    {
     "name": "stdout",
     "output_type": "stream",
     "text": [
      "2.2461919979205445\n",
      "1.8171205928321397\n",
      "2.213363839400643\n"
     ]
    }
   ],
   "source": [
    "print(geom_mean(X))\n",
    "print(geom_mean(Y))\n",
    "print(geom_mean(Z))"
   ]
  },
  {
   "attachments": {},
   "cell_type": "markdown",
   "metadata": {},
   "source": [
    "### e) Write a harmonic mean."
   ]
  },
  {
   "cell_type": "code",
   "execution_count": 13,
   "metadata": {},
   "outputs": [],
   "source": [
    "def harmonic_mean(lst):\n",
    "    lst = np.sort(lst)\n",
    "    n = len(lst)\n",
    "    numerator = (1 / lst[0])\n",
    "    for i in lst[1:]:\n",
    "        numerator += (1 / i)\n",
    "    harmonic_mean = 1 / (numerator / n)\n",
    "    return (harmonic_mean)"
   ]
  },
  {
   "cell_type": "code",
   "execution_count": 14,
   "metadata": {},
   "outputs": [
    {
     "name": "stdout",
     "output_type": "stream",
     "text": [
      "1.9591836734693875\n",
      "1.5319148936170213\n",
      "1.92\n"
     ]
    }
   ],
   "source": [
    "print(harmonic_mean(X))\n",
    "print(harmonic_mean(Y))\n",
    "print(harmonic_mean(Z))"
   ]
  },
  {
   "attachments": {},
   "cell_type": "markdown",
   "metadata": {},
   "source": [
    "### f) Write a arithmetic-geometric mean."
   ]
  },
  {
   "cell_type": "code",
   "execution_count": 15,
   "metadata": {},
   "outputs": [],
   "source": [
    "def arithmetic_geom_mean(lst):\n",
    "    lst = np.sort(lst)\n",
    "    ahg_arithmetic_mean = mean(lst)\n",
    "    ahg_geom_mean = geom_mean(lst)\n",
    "    arithmetic_geom_mean = (ahg_arithmetic_mean + ahg_geom_mean) / 2\n",
    "    return (arithmetic_geom_mean)"
   ]
  },
  {
   "cell_type": "code",
   "execution_count": 16,
   "metadata": {},
   "outputs": [
    {
     "name": "stdout",
     "output_type": "stream",
     "text": [
      "2.373095998960272\n",
      "1.991893629749403\n",
      "2.3566819197003213\n"
     ]
    }
   ],
   "source": [
    "print(arithmetic_geom_mean(X))\n",
    "print(arithmetic_geom_mean(Y))\n",
    "print(arithmetic_geom_mean(Z))"
   ]
  },
  {
   "attachments": {},
   "cell_type": "markdown",
   "metadata": {},
   "source": [
    "### g) Write a arithmetic-harmonic-geometric mean."
   ]
  },
  {
   "cell_type": "code",
   "execution_count": 17,
   "metadata": {},
   "outputs": [],
   "source": [
    "def arithmetic_harmonic_geom_mean(lst):\n",
    "    lst = np.sort(lst)\n",
    "    ahg_arithmetic_mean = mean(lst)\n",
    "    ahg_geom_mean = geom_mean(lst)\n",
    "    ahg_harmonic_mean = harmonic_mean(lst)\n",
    "    arithmetic_harmonic_geom_mean = (ahg_arithmetic_mean + ahg_geom_mean + ahg_harmonic_mean) / 3\n",
    "    return (arithmetic_harmonic_geom_mean)"
   ]
  },
  {
   "cell_type": "code",
   "execution_count": 18,
   "metadata": {},
   "outputs": [
    {
     "name": "stdout",
     "output_type": "stream",
     "text": [
      "2.235125223796644\n",
      "1.8385673843719423\n",
      "2.211121279800214\n"
     ]
    }
   ],
   "source": [
    "print(arithmetic_harmonic_geom_mean(X))\n",
    "print(arithmetic_harmonic_geom_mean(Y))\n",
    "print(arithmetic_harmonic_geom_mean(Z))"
   ]
  },
  {
   "attachments": {},
   "cell_type": "markdown",
   "metadata": {},
   "source": [
    "### h) Write a code for the variance."
   ]
  },
  {
   "cell_type": "code",
   "execution_count": 19,
   "metadata": {},
   "outputs": [],
   "source": [
    "def variance(lst):\n",
    "    # lst = np.sort(lst)\n",
    "    # n = len(lst)\n",
    "    # mu = mean(lst)\n",
    "    # numerator = (lst[0] - mu) ** 2\n",
    "    # for i in lst[1:]:\n",
    "    #     numerator += (i - mu) ** 2\n",
    "    # variance = numerator / n\n",
    "    variance = st.variance(lst)\n",
    "    return (variance)"
   ]
  },
  {
   "cell_type": "code",
   "execution_count": 20,
   "metadata": {},
   "outputs": [
    {
     "name": "stdout",
     "output_type": "stream",
     "text": [
      "1.1428571428571428\n",
      "1.7666666666666666\n",
      "1.4285714285714286\n"
     ]
    }
   ],
   "source": [
    "print(variance(X))\n",
    "print(variance(Y))\n",
    "print(variance(Z))"
   ]
  },
  {
   "cell_type": "code",
   "execution_count": 21,
   "metadata": {},
   "outputs": [],
   "source": [
    "def pvariance(lst):\n",
    "    pvariance = st.pvariance(lst)\n",
    "    return (pvariance)"
   ]
  },
  {
   "cell_type": "code",
   "execution_count": 22,
   "metadata": {},
   "outputs": [
    {
     "name": "stdout",
     "output_type": "stream",
     "text": [
      "1\n",
      "1.4722222222222223\n",
      "1.25\n"
     ]
    }
   ],
   "source": [
    "print(pvariance(X))\n",
    "print(pvariance(Y))\n",
    "print(pvariance(Z))"
   ]
  },
  {
   "attachments": {},
   "cell_type": "markdown",
   "metadata": {},
   "source": [
    "### i) Write a code for the standard deviation."
   ]
  },
  {
   "cell_type": "code",
   "execution_count": 23,
   "metadata": {},
   "outputs": [],
   "source": [
    "def std(lst):\n",
    "    std = st.stdev(lst)\n",
    "    return (std)"
   ]
  },
  {
   "cell_type": "code",
   "execution_count": 24,
   "metadata": {},
   "outputs": [
    {
     "name": "stdout",
     "output_type": "stream",
     "text": [
      "1.0690449676496976\n",
      "1.3291601358251257\n",
      "1.1952286093343936\n"
     ]
    }
   ],
   "source": [
    "print(std(X))\n",
    "print(std(Y))\n",
    "print(std(Z))"
   ]
  },
  {
   "cell_type": "code",
   "execution_count": 25,
   "metadata": {},
   "outputs": [],
   "source": [
    "def pstd(lst):\n",
    "    pstd = st.pstdev(lst)\n",
    "    return (pstd)"
   ]
  },
  {
   "cell_type": "code",
   "execution_count": 26,
   "metadata": {},
   "outputs": [
    {
     "name": "stdout",
     "output_type": "stream",
     "text": [
      "1.0\n",
      "1.2133516482134197\n",
      "1.118033988749895\n"
     ]
    }
   ],
   "source": [
    "print(pstd(X))\n",
    "print(pstd(Y))\n",
    "print(pstd(Z))"
   ]
  },
  {
   "attachments": {},
   "cell_type": "markdown",
   "metadata": {},
   "source": [
    "### j) Write a code for the MAD around mean, μ."
   ]
  },
  {
   "cell_type": "code",
   "execution_count": 27,
   "metadata": {},
   "outputs": [],
   "source": [
    "def mad_mean(lst):\n",
    "    lst = np.sort(lst)\n",
    "    n = len(lst)\n",
    "    mu = mean(lst)\n",
    "    numerator = np.abs(lst[0] - mu)\n",
    "    for i in lst[1:]:\n",
    "        numerator += np.abs(i - mu)\n",
    "    mad_mean = numerator / n\n",
    "    return (mad_mean)"
   ]
  },
  {
   "cell_type": "code",
   "execution_count": 28,
   "metadata": {},
   "outputs": [
    {
     "name": "stdout",
     "output_type": "stream",
     "text": [
      "0.875\n",
      "1.1666666666666667\n",
      "1.0\n"
     ]
    }
   ],
   "source": [
    "print(mad_mean(X))\n",
    "print(mad_mean(Y))\n",
    "print(mad_mean(Z))"
   ]
  },
  {
   "attachments": {},
   "cell_type": "markdown",
   "metadata": {},
   "source": [
    "### k) Write a code for the MAD around median, μd."
   ]
  },
  {
   "cell_type": "code",
   "execution_count": 29,
   "metadata": {},
   "outputs": [],
   "source": [
    "def mad_median(lst):\n",
    "    lst = np.sort(lst)\n",
    "    n = len(lst)\n",
    "    mu = median(lst)\n",
    "    numerator = np.abs(lst[0] - mu)\n",
    "    for i in lst[1:]:\n",
    "        numerator += np.abs(i - mu)\n",
    "    mad_median = numerator / n\n",
    "    return (mad_median)"
   ]
  },
  {
   "cell_type": "code",
   "execution_count": 30,
   "metadata": {},
   "outputs": [
    {
     "name": "stdout",
     "output_type": "stream",
     "text": [
      "0.75\n",
      "1.1666666666666667\n",
      "1.0\n"
     ]
    }
   ],
   "source": [
    "print(mad_median(X))\n",
    "print(mad_median(Y))\n",
    "print(mad_median(Z))"
   ]
  },
  {
   "attachments": {},
   "cell_type": "markdown",
   "metadata": {},
   "source": [
    "### l) Write a code for the MAD around mode, μo."
   ]
  },
  {
   "cell_type": "code",
   "execution_count": 31,
   "metadata": {},
   "outputs": [],
   "source": [
    "def mad_mode(lst):\n",
    "    lst = np.sort(lst)\n",
    "    n = len(lst)\n",
    "    mu = mode(lst)\n",
    "    numerator = np.abs(lst[0] - mu)\n",
    "    for i in lst[1:]:\n",
    "        numerator += np.abs(i - mu)\n",
    "    mad_mode = numerator / n\n",
    "    return (mad_mode)"
   ]
  },
  {
   "cell_type": "code",
   "execution_count": 32,
   "metadata": {},
   "outputs": [
    {
     "name": "stdout",
     "output_type": "stream",
     "text": [
      "0.75\n",
      "1.1666666666666667\n",
      "1.5\n"
     ]
    }
   ],
   "source": [
    "print(mad_mode(X))\n",
    "print(mad_mode(Y))\n",
    "print(mad_mode(Z))"
   ]
  },
  {
   "attachments": {},
   "cell_type": "markdown",
   "metadata": {},
   "source": [
    "### m) Write a code for the generallized MPAD, the mean of pth power absolute deviation which takes p and center point as inputs: MPAD(X, p, μx)."
   ]
  },
  {
   "cell_type": "code",
   "execution_count": 33,
   "metadata": {},
   "outputs": [],
   "source": [
    "def mpad(lst, p, mu):\n",
    "    lst = np.sort(lst)\n",
    "    n = len(lst)\n",
    "    numerator = np.abs(lst[0] - mu) ** p\n",
    "    for i in lst[1:]:\n",
    "        numerator += np.abs(i - mu) ** p\n",
    "    mpad = numerator / n\n",
    "    return (mpad)"
   ]
  },
  {
   "cell_type": "code",
   "execution_count": 55,
   "metadata": {},
   "outputs": [
    {
     "name": "stdout",
     "output_type": "stream",
     "text": [
      "1.25\n",
      "1.34375\n",
      "1.5\n",
      "2.013888888888889\n",
      "1.25\n",
      "1.75\n"
     ]
    }
   ],
   "source": [
    "print(mpad(X, 2, median(X)))\n",
    "print(mpad(X, 3, mean(X)))\n",
    "print(mpad(Y, 2, median(Y)))\n",
    "print(mpad(Y, 3, mean(Y)))\n",
    "print(mpad(Z, 2, median(Z)))\n",
    "print(mpad(Z, 3, mean(Z)))"
   ]
  },
  {
   "attachments": {},
   "cell_type": "markdown",
   "metadata": {},
   "source": [
    "### n) Write a code for the interquartile range."
   ]
  },
  {
   "cell_type": "code",
   "execution_count": 35,
   "metadata": {},
   "outputs": [],
   "source": [
    "def iqr(lst):\n",
    "    lst = np.sort(lst)\n",
    "    n = len(lst)\n",
    "    lq_floor = int(np.floor((n + 1) / 4)) - 1\n",
    "    lq_ceil = int(np.ceil((n + 1) / 4)) - 1\n",
    "    lq = 1/2 * (lst[lq_floor] + lst[lq_ceil])\n",
    "    uq_floor = int(np.floor((3 * (n + 1)) / 4)) - 1\n",
    "    uq_ceil = int(np.ceil((3 * (n + 1)) / 4)) - 1\n",
    "    uq = 1/2 * (lst[uq_floor] + lst[uq_ceil])\n",
    "    return (lq, uq)"
   ]
  },
  {
   "cell_type": "code",
   "execution_count": 36,
   "metadata": {},
   "outputs": [
    {
     "name": "stdout",
     "output_type": "stream",
     "text": [
      "(1.5, 3.0)\n",
      "(1.0, 3.5)\n",
      "(1.5, 3.5)\n"
     ]
    }
   ],
   "source": [
    "print(iqr(X))\n",
    "print(iqr(Y))\n",
    "print(iqr(Z))"
   ]
  },
  {
   "attachments": {},
   "cell_type": "markdown",
   "metadata": {},
   "source": [
    "### o) Write a code for the quartile based skewness."
   ]
  },
  {
   "cell_type": "code",
   "execution_count": 37,
   "metadata": {},
   "outputs": [],
   "source": [
    "def quartile_based_skewness(lst):\n",
    "    lq, uq = iqr(lst)\n",
    "    mq = median(lst)\n",
    "    quartile_based_skewness = (uq + lq - (2 * mq)) / (uq - lq)\n",
    "    return (quartile_based_skewness)"
   ]
  },
  {
   "cell_type": "code",
   "execution_count": 38,
   "metadata": {},
   "outputs": [
    {
     "name": "stdout",
     "output_type": "stream",
     "text": [
      "-1.0\n",
      "0.2\n",
      "0.0\n"
     ]
    }
   ],
   "source": [
    "print(quartile_based_skewness(X))\n",
    "print(quartile_based_skewness(Y))\n",
    "print(quartile_based_skewness(Z))"
   ]
  },
  {
   "attachments": {},
   "cell_type": "markdown",
   "metadata": {},
   "source": [
    "### p) Write a code for the Pearson’s first skewness."
   ]
  },
  {
   "cell_type": "code",
   "execution_count": 39,
   "metadata": {},
   "outputs": [],
   "source": [
    "def pearson_first_skewness(lst):\n",
    "    p_mean = mean(lst)\n",
    "    p_mode = mode(lst)\n",
    "    p_std = std(lst)\n",
    "    pearson_first_skewness = (p_mean - p_mode) / p_std\n",
    "    return (pearson_first_skewness)"
   ]
  },
  {
   "cell_type": "code",
   "execution_count": 40,
   "metadata": {},
   "outputs": [
    {
     "name": "stdout",
     "output_type": "stream",
     "text": [
      "-0.46770717334674267\n",
      "0.8777472595071584\n",
      "1.2549900398011133\n"
     ]
    }
   ],
   "source": [
    "print(pearson_first_skewness(X))\n",
    "print(pearson_first_skewness(Y))\n",
    "print(pearson_first_skewness(Z))"
   ]
  },
  {
   "attachments": {},
   "cell_type": "markdown",
   "metadata": {},
   "source": [
    "### q) Write a code for the Pearsons second skewness."
   ]
  },
  {
   "cell_type": "code",
   "execution_count": 41,
   "metadata": {},
   "outputs": [],
   "source": [
    "def pearson_second_skewness(lst):\n",
    "    p_mean = mean(lst)\n",
    "    p_median = median(lst)\n",
    "    p_std = std(lst)\n",
    "    pearson_second_skewness = (3 * (p_mean - p_median)) / p_std\n",
    "    return (pearson_second_skewness)"
   ]
  },
  {
   "cell_type": "code",
   "execution_count": 42,
   "metadata": {},
   "outputs": [
    {
     "name": "stdout",
     "output_type": "stream",
     "text": [
      "-1.403121520040228\n",
      "0.37617739693163904\n",
      "0.0\n"
     ]
    }
   ],
   "source": [
    "print(pearson_second_skewness(X))\n",
    "print(pearson_second_skewness(Y))\n",
    "print(pearson_second_skewness(Z))"
   ]
  },
  {
   "attachments": {},
   "cell_type": "markdown",
   "metadata": {},
   "source": [
    "### r) Write a code for the Groeneveld & Meedens coefficient."
   ]
  },
  {
   "cell_type": "code",
   "execution_count": 43,
   "metadata": {},
   "outputs": [],
   "source": [
    "def groeneveld_meedens_coef(lst):\n",
    "    p_mean = mean(lst)\n",
    "    p_median = median(lst)\n",
    "    p_mad_median = mad_median(lst)\n",
    "    groeneveld_meedens_coef = (p_mean - p_median) / p_mad_median\n",
    "    return (groeneveld_meedens_coef)"
   ]
  },
  {
   "cell_type": "code",
   "execution_count": 44,
   "metadata": {},
   "outputs": [
    {
     "name": "stdout",
     "output_type": "stream",
     "text": [
      "-0.6666666666666666\n",
      "0.1428571428571427\n",
      "0.0\n"
     ]
    }
   ],
   "source": [
    "print(groeneveld_meedens_coef(X))\n",
    "print(groeneveld_meedens_coef(Y))\n",
    "print(groeneveld_meedens_coef(Z))"
   ]
  },
  {
   "attachments": {},
   "cell_type": "markdown",
   "metadata": {},
   "source": [
    "### s) Write a code for the Pearsons moment coefficient."
   ]
  },
  {
   "cell_type": "code",
   "execution_count": 45,
   "metadata": {},
   "outputs": [],
   "source": [
    "def pearson_moment_coef(lst):\n",
    "    lst = np.sort(lst)\n",
    "    n = len(lst)\n",
    "    mu = mean(lst)\n",
    "    p_std = std(lst)\n",
    "    numerator = (lst[0] - mu) ** 3\n",
    "    for i in lst[1:]:\n",
    "        numerator += (i - mu) ** 3\n",
    "    denominator = (p_std ** 3) * n\n",
    "    pearson_moment_coef = numerator / denominator\n",
    "    return (pearson_moment_coef)"
   ]
  },
  {
   "cell_type": "code",
   "execution_count": 46,
   "metadata": {},
   "outputs": [
    {
     "name": "stdout",
     "output_type": "stream",
     "text": [
      "-0.375\n",
      "0.4259259259259265\n",
      "0.0\n"
     ]
    }
   ],
   "source": [
    "print(pearson_moment_coef(X))\n",
    "print(pearson_moment_coef(Y))\n",
    "print(pearson_moment_coef(Z))"
   ]
  },
  {
   "attachments": {},
   "cell_type": "markdown",
   "metadata": {},
   "source": [
    "### t) Write a code for the Kurtosis (sharpness)."
   ]
  },
  {
   "cell_type": "code",
   "execution_count": 47,
   "metadata": {},
   "outputs": [],
   "source": [
    "def kurtosis(lst):\n",
    "    lst = np.sort(lst)\n",
    "    n = len(lst)\n",
    "    mu = mean(lst)\n",
    "    p_std = std(lst)\n",
    "    numerator = (lst[0] - mu) ** 4\n",
    "    for i in lst[1:]:\n",
    "        numerator += (i - mu) ** 4\n",
    "    denominator = (p_std ** 4) * n\n",
    "    kurtosis = numerator / denominator\n",
    "    return (kurtosis)"
   ]
  },
  {
   "cell_type": "code",
   "execution_count": 48,
   "metadata": {},
   "outputs": [
    {
     "name": "stdout",
     "output_type": "stream",
     "text": [
      "1.9375\n",
      "2.969907407407408\n",
      "2.5625\n"
     ]
    }
   ],
   "source": [
    "print(kurtosis(X))\n",
    "print(kurtosis(Y))\n",
    "print(kurtosis(Z))"
   ]
  },
  {
   "attachments": {},
   "cell_type": "markdown",
   "metadata": {},
   "source": [
    "### u) Write a code for the p degree standardized moment coefficient which takes p and center point as inputs: (X, p, μx)."
   ]
  },
  {
   "cell_type": "code",
   "execution_count": 49,
   "metadata": {},
   "outputs": [],
   "source": [
    "def p_degree_standard_coef(lst, p, mu):\n",
    "    lst = np.sort(lst)\n",
    "    n = len(lst)\n",
    "    p_std = std(lst)\n",
    "    numerator = (lst[0] - mu) ** p\n",
    "    for i in lst[1:]:\n",
    "        numerator += (i - mu) ** p\n",
    "    denominator = (p_std ** p) * n\n",
    "    p_degree_standard_coef = numerator / denominator\n",
    "    return (p_degree_standard_coef)"
   ]
  },
  {
   "cell_type": "code",
   "execution_count": 50,
   "metadata": {},
   "outputs": [
    {
     "name": "stdout",
     "output_type": "stream",
     "text": [
      "-0.375\n",
      "4.25\n",
      "0.4259259259259265\n",
      "18.833333333333332\n",
      "0.0\n",
      "24.5\n"
     ]
    }
   ],
   "source": [
    "print(p_degree_standard_coef(X, 3, mean(X)))\n",
    "print(p_degree_standard_coef(X, 4, mode(X)))\n",
    "print(p_degree_standard_coef(Y, 3, mean(Y)))\n",
    "print(p_degree_standard_coef(Y, 4, mode(Y)))\n",
    "print(p_degree_standard_coef(Z, 3, mean(Z)))\n",
    "print(p_degree_standard_coef(Z, 4, mode(Z)))"
   ]
  },
  {
   "attachments": {},
   "cell_type": "markdown",
   "metadata": {},
   "source": [
    "# Question Two\n",
    "During the Peloponnesian war in 431 BC, attackers besieging Plataea wanted to find the height of the wall in order to build ladders needed. The height of the wall was estimated by counting the number of bricks. 40 soldiers reported their estimates of the number of bricks. Frequency of soldiers estimated each number of bricks is given as follows."
   ]
  },
  {
   "cell_type": "code",
   "execution_count": 51,
   "metadata": {},
   "outputs": [],
   "source": [
    "B = [\n",
    "    103,103,103,103,103,\n",
    "    104,104,104,104,\n",
    "    105,105,105,105,105,105,\n",
    "    106,106,106,106,106,\n",
    "    107,107,107,107,107,107,\n",
    "    108,108,108,108,108,108,108,108,\n",
    "    109,109,109,\n",
    "    110,110,\n",
    "    111\n",
    "    ]"
   ]
  },
  {
   "attachments": {},
   "cell_type": "markdown",
   "metadata": {},
   "source": [
    "### a) Find the following central point values."
   ]
  },
  {
   "cell_type": "code",
   "execution_count": 52,
   "metadata": {},
   "outputs": [
    {
     "name": "stdout",
     "output_type": "stream",
     "text": [
      "106.375\n",
      "106.5\n",
      "108\n",
      "106.33193383948843\n",
      "2.911117864686523\n",
      "54.64305893234326\n"
     ]
    },
    {
     "name": "stderr",
     "output_type": "stream",
     "text": [
      "/var/folders/n9/3mjn__fd1xd66lc1zh9nlj0h0000gp/T/ipykernel_81170/792850297.py:6: RuntimeWarning: overflow encountered in long_scalars\n",
      "  product *= i\n"
     ]
    }
   ],
   "source": [
    "print(mean(B))\n",
    "print(median(B))\n",
    "print(mode(B))\n",
    "print(harmonic_mean(B))\n",
    "print(geom_mean(B))\n",
    "print(arithmetic_geom_mean(B))"
   ]
  },
  {
   "attachments": {},
   "cell_type": "markdown",
   "metadata": {},
   "source": [
    "### b) Find the following variance values."
   ]
  },
  {
   "cell_type": "code",
   "execution_count": 53,
   "metadata": {},
   "outputs": [
    {
     "name": "stdout",
     "output_type": "stream",
     "text": [
      "4.701923076923077\n"
     ]
    }
   ],
   "source": [
    "print(variance(B))"
   ]
  },
  {
   "attachments": {},
   "cell_type": "markdown",
   "metadata": {},
   "source": [
    "### c) Find the following MAD values."
   ]
  },
  {
   "cell_type": "code",
   "execution_count": 54,
   "metadata": {},
   "outputs": [
    {
     "name": "stdout",
     "output_type": "stream",
     "text": [
      "1.825\n",
      "1.825\n",
      "2.125\n"
     ]
    }
   ],
   "source": [
    "print(mad_mean(B))\n",
    "print(mad_median(B))\n",
    "print(mad_mode(B))"
   ]
  }
 ],
 "metadata": {
  "kernelspec": {
   "display_name": "Python 3",
   "language": "python",
   "name": "python3"
  },
  "language_info": {
   "codemirror_mode": {
    "name": "ipython",
    "version": 3
   },
   "file_extension": ".py",
   "mimetype": "text/x-python",
   "name": "python",
   "nbconvert_exporter": "python",
   "pygments_lexer": "ipython3",
   "version": "3.10.5"
  },
  "orig_nbformat": 4,
  "vscode": {
   "interpreter": {
    "hash": "aee8b7b246df8f9039afb4144a1f6fd8d2ca17a180786b69acc140d282b71a49"
   }
  }
 },
 "nbformat": 4,
 "nbformat_minor": 2
}
