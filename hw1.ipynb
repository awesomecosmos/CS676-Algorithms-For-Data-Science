{
 "cells": [
  {
   "cell_type": "code",
   "execution_count": 93,
   "metadata": {},
   "outputs": [],
   "source": [
    "import numpy as np\n",
    "import statistics as st"
   ]
  },
  {
   "attachments": {},
   "cell_type": "markdown",
   "metadata": {},
   "source": [
    "# Question One\n",
    "Consider the following three univariate data sets."
   ]
  },
  {
   "cell_type": "code",
   "execution_count": 38,
   "metadata": {},
   "outputs": [],
   "source": [
    "X = [3,1,2,3,1,4,3,3]\n",
    "Y = [1,4,3,1,1,3]\n",
    "Z = [3,3,1,4,2,1,4,2]"
   ]
  },
  {
   "attachments": {},
   "cell_type": "markdown",
   "metadata": {},
   "source": [
    "### a) Write a code for the mean."
   ]
  },
  {
   "cell_type": "code",
   "execution_count": 39,
   "metadata": {},
   "outputs": [],
   "source": [
    "def mean(lst):\n",
    "    return (sum(lst)/len(lst))"
   ]
  },
  {
   "cell_type": "code",
   "execution_count": 40,
   "metadata": {},
   "outputs": [
    {
     "name": "stdout",
     "output_type": "stream",
     "text": [
      "2.5\n",
      "2.1666666666666665\n",
      "2.5\n"
     ]
    }
   ],
   "source": [
    "print(mean(X))\n",
    "print(mean(Y))\n",
    "print(mean(Z))"
   ]
  },
  {
   "cell_type": "code",
   "execution_count": 41,
   "metadata": {},
   "outputs": [
    {
     "name": "stdout",
     "output_type": "stream",
     "text": [
      "2.5\n",
      "2.1666666666666665\n",
      "2.5\n"
     ]
    }
   ],
   "source": [
    "print(np.mean(X))\n",
    "print(np.mean(Y))\n",
    "print(np.mean(Z))"
   ]
  },
  {
   "attachments": {},
   "cell_type": "markdown",
   "metadata": {},
   "source": [
    "### b) Write a code for the median."
   ]
  },
  {
   "cell_type": "code",
   "execution_count": 82,
   "metadata": {},
   "outputs": [],
   "source": [
    "def median(lst):\n",
    "    lst = np.sort(lst)\n",
    "    n = len(lst)\n",
    "    floor = int(np.floor((n + 1) / 2))\n",
    "    ceil = int(np.ceil((n + 1) / 2))\n",
    "    median = 0.5 * (lst[floor - 1] + lst[ceil - 1])\n",
    "    return median"
   ]
  },
  {
   "cell_type": "code",
   "execution_count": 83,
   "metadata": {},
   "outputs": [
    {
     "name": "stdout",
     "output_type": "stream",
     "text": [
      "3.0\n",
      "2.0\n",
      "2.5\n"
     ]
    }
   ],
   "source": [
    "print(median(X))\n",
    "print(median(Y))\n",
    "print(median(Z))"
   ]
  },
  {
   "cell_type": "code",
   "execution_count": 44,
   "metadata": {},
   "outputs": [
    {
     "name": "stdout",
     "output_type": "stream",
     "text": [
      "3.0\n",
      "2.0\n",
      "2.5\n"
     ]
    }
   ],
   "source": [
    "print(np.median(X))\n",
    "print(np.median(Y))\n",
    "print(np.median(Z))"
   ]
  },
  {
   "attachments": {},
   "cell_type": "markdown",
   "metadata": {},
   "source": [
    "### c) Write a code for the mode."
   ]
  },
  {
   "cell_type": "code",
   "execution_count": 95,
   "metadata": {},
   "outputs": [],
   "source": [
    "def mode(lst):\n",
    "    lst = np.sort(lst)\n",
    "    return (st.mode(lst))"
   ]
  },
  {
   "cell_type": "code",
   "execution_count": 97,
   "metadata": {},
   "outputs": [
    {
     "name": "stdout",
     "output_type": "stream",
     "text": [
      "3\n",
      "1\n",
      "1\n"
     ]
    }
   ],
   "source": [
    "print(mode(X))\n",
    "print(mode(Y))\n",
    "print(mode(Z))"
   ]
  },
  {
   "attachments": {},
   "cell_type": "markdown",
   "metadata": {},
   "source": [
    "### d) Write a geometric mean."
   ]
  },
  {
   "cell_type": "code",
   "execution_count": 100,
   "metadata": {},
   "outputs": [],
   "source": [
    "def geom_mean(lst):\n",
    "    lst = np.sort(lst)\n",
    "    n = len(lst)\n",
    "    product = lst[0]\n",
    "    for i in lst[1:]:\n",
    "        product *= i\n",
    "    geom_mean = product ** (1 / n)\n",
    "    return (geom_mean)"
   ]
  },
  {
   "cell_type": "code",
   "execution_count": 102,
   "metadata": {},
   "outputs": [
    {
     "name": "stdout",
     "output_type": "stream",
     "text": [
      "2.2461919979205445\n",
      "1.8171205928321397\n",
      "2.213363839400643\n"
     ]
    }
   ],
   "source": [
    "print(geom_mean(X))\n",
    "print(geom_mean(Y))\n",
    "print(geom_mean(Z))"
   ]
  },
  {
   "attachments": {},
   "cell_type": "markdown",
   "metadata": {},
   "source": [
    "### e) Write a harmonic mean."
   ]
  },
  {
   "cell_type": "code",
   "execution_count": 121,
   "metadata": {},
   "outputs": [],
   "source": [
    "def harmonic_mean(lst):\n",
    "    lst = np.sort(lst)\n",
    "    n = len(lst)\n",
    "    numerator = (1 / lst[0])\n",
    "    for i in lst[1:]:\n",
    "        numerator += (1 / i)\n",
    "    harmonic_mean = 1 / (numerator / n)\n",
    "    return (harmonic_mean)"
   ]
  },
  {
   "cell_type": "code",
   "execution_count": 124,
   "metadata": {},
   "outputs": [
    {
     "name": "stdout",
     "output_type": "stream",
     "text": [
      "1.9591836734693875\n",
      "1.5319148936170213\n",
      "1.92\n"
     ]
    }
   ],
   "source": [
    "print(harmonic_mean(X))\n",
    "print(harmonic_mean(Y))\n",
    "print(harmonic_mean(Z))"
   ]
  },
  {
   "attachments": {},
   "cell_type": "markdown",
   "metadata": {},
   "source": [
    "### f) Write a arithmetic-geometric mean."
   ]
  },
  {
   "cell_type": "code",
   "execution_count": 126,
   "metadata": {},
   "outputs": [],
   "source": [
    "def arithmetic_geom_mean(lst):\n",
    "    lst = np.sort(lst)\n",
    "    mu_a = mean(lst)\n",
    "    mu_g = geom_mean(lst)\n",
    "\n",
    "    while np.abs(mu_a - mu_g) > 0.000001:\n",
    "        temp = (mu_a * mu_g) / 2\n",
    "        mu_g = np.sqrt(mu_a * mu_g)\n",
    "        mu_a = temp\n",
    "    \n",
    "    arithmetic_geom_mean = (mu_a + mu_g) / 2\n",
    "    return (arithmetic_geom_mean)"
   ]
  },
  {
   "cell_type": "code",
   "execution_count": 129,
   "metadata": {},
   "outputs": [
    {
     "name": "stdout",
     "output_type": "stream",
     "text": [
      "inf\n"
     ]
    },
    {
     "name": "stderr",
     "output_type": "stream",
     "text": [
      "/var/folders/n9/3mjn__fd1xd66lc1zh9nlj0h0000gp/T/ipykernel_27984/4138592823.py:7: RuntimeWarning: overflow encountered in double_scalars\n",
      "  temp = (mu_a * mu_g) / 2\n",
      "/var/folders/n9/3mjn__fd1xd66lc1zh9nlj0h0000gp/T/ipykernel_27984/4138592823.py:8: RuntimeWarning: overflow encountered in double_scalars\n",
      "  mu_g = np.sqrt(mu_a * mu_g)\n",
      "/var/folders/n9/3mjn__fd1xd66lc1zh9nlj0h0000gp/T/ipykernel_27984/4138592823.py:6: RuntimeWarning: invalid value encountered in double_scalars\n",
      "  while np.abs(mu_a - mu_g) > 0.000001:\n"
     ]
    }
   ],
   "source": [
    "print(arithmetic_geom_mean(Z))"
   ]
  },
  {
   "cell_type": "code",
   "execution_count": null,
   "metadata": {},
   "outputs": [],
   "source": []
  },
  {
   "cell_type": "code",
   "execution_count": null,
   "metadata": {},
   "outputs": [],
   "source": []
  },
  {
   "cell_type": "code",
   "execution_count": null,
   "metadata": {},
   "outputs": [],
   "source": []
  },
  {
   "cell_type": "code",
   "execution_count": null,
   "metadata": {},
   "outputs": [],
   "source": []
  },
  {
   "cell_type": "code",
   "execution_count": null,
   "metadata": {},
   "outputs": [],
   "source": []
  }
 ],
 "metadata": {
  "kernelspec": {
   "display_name": "Python 3",
   "language": "python",
   "name": "python3"
  },
  "language_info": {
   "codemirror_mode": {
    "name": "ipython",
    "version": 3
   },
   "file_extension": ".py",
   "mimetype": "text/x-python",
   "name": "python",
   "nbconvert_exporter": "python",
   "pygments_lexer": "ipython3",
   "version": "3.10.5"
  },
  "orig_nbformat": 4,
  "vscode": {
   "interpreter": {
    "hash": "aee8b7b246df8f9039afb4144a1f6fd8d2ca17a180786b69acc140d282b71a49"
   }
  }
 },
 "nbformat": 4,
 "nbformat_minor": 2
}
