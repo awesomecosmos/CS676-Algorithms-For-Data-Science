{
 "cells": [
  {
   "attachments": {},
   "cell_type": "markdown",
   "metadata": {},
   "source": [
    "# CS676 Homework #4\n",
    "Aayushi Verma"
   ]
  },
  {
   "cell_type": "code",
   "execution_count": 1,
   "metadata": {},
   "outputs": [],
   "source": [
    "import pandas as pd\n",
    "import numpy as np\n",
    "from sklearn.preprocessing import MinMaxScaler"
   ]
  },
  {
   "attachments": {},
   "cell_type": "markdown",
   "metadata": {},
   "source": [
    "Consider the following data set for questions Q 1 ∼ Q 20 where x column is the hours that a student studied, y column is the hours that a student played video games, and g is the GPA that the student received."
   ]
  },
  {
   "cell_type": "code",
   "execution_count": 2,
   "metadata": {},
   "outputs": [],
   "source": [
    "df = pd.DataFrame(\n",
    "    {\n",
    "        'x':[5,6,4,3,4,3,1],\n",
    "        'y':[2,5,2,3,7,6,8],\n",
    "        'g':[4,3,3,3,2,2,1]\n",
    "    }\n",
    ")"
   ]
  },
  {
   "attachments": {},
   "cell_type": "markdown",
   "metadata": {},
   "source": [
    "## Defining Functions"
   ]
  },
  {
   "cell_type": "code",
   "execution_count": 3,
   "metadata": {},
   "outputs": [],
   "source": [
    "def l1(given_point,x,y):\n",
    "    # Function to determine Manhattan distance, L1.\n",
    "    d_l1 = []\n",
    "    d = len(x) # assumes len(x) = len(y)\n",
    "    for i in range(d):\n",
    "        d_sum = (x[i] - y[i]) + (given_point[0] - given_point[1])\n",
    "        d_l1.append(d_sum)\n",
    "    return d_l1"
   ]
  },
  {
   "cell_type": "code",
   "execution_count": 4,
   "metadata": {},
   "outputs": [],
   "source": [
    "def l2(given_point,x,y):\n",
    "    # Function to determine Euclidean distance, L2.\n",
    "    d_l2 = []\n",
    "    d = len(x) # assumes len(x) = len(y)\n",
    "    for i in range(d):\n",
    "        d_sum = np.sqrt(((x[i] - y[i]) ** 2) + ((given_point[0] - given_point[1]) ** 2))\n",
    "        d_l2.append(d_sum)\n",
    "    return d_l2"
   ]
  },
  {
   "cell_type": "code",
   "execution_count": 5,
   "metadata": {},
   "outputs": [],
   "source": [
    "def l3(given_point, x, y, p):\n",
    "    # Function to determine Minkowski distance, L3.\n",
    "    d_l3 = []\n",
    "    d = len(x) # assumes len(x) = len(y)\n",
    "    for i in range(d):\n",
    "        d_sum = (((x[i] - y[i]) ** p) + ((given_point[0] - given_point[1]) ** p)) ** (1 / p)\n",
    "        d_l3.append(d_sum)\n",
    "    return d_l3"
   ]
  },
  {
   "cell_type": "code",
   "execution_count": 6,
   "metadata": {},
   "outputs": [],
   "source": [
    "def nearest_neighbor(df, given_point, distance='l2', p=None):\n",
    "    df1 = df.copy()\n",
    "    \n",
    "    if distance == 'l1':\n",
    "        distance_metric = l1(given_point, df1['x'], df1['y'])\n",
    "    elif distance == 'l3':\n",
    "        distance_metric = l3(given_point, df1['x'], df1['y'], p)\n",
    "    else:\n",
    "        distance_metric = l2(given_point, df1['x'], df1['y'])\n",
    "\n",
    "    df1[distance] = distance_metric\n",
    "    df1 = df1.sort_values(distance).reset_index().drop(['index'], axis=1)\n",
    "    return (df1)"
   ]
  },
  {
   "cell_type": "code",
   "execution_count": 7,
   "metadata": {},
   "outputs": [],
   "source": [
    "def k_nearest_neighbor(df, given_point, k, distance='l2', p=None):\n",
    "    df2 = nearest_neighbor(df, given_point, distance, p)\n",
    "    top_k_values = df2.loc[:k - 1]['g']\n",
    "    expected_gpa = (np.sum(top_k_values)) / k\n",
    "    return (expected_gpa)"
   ]
  },
  {
   "cell_type": "code",
   "execution_count": 8,
   "metadata": {},
   "outputs": [],
   "source": [
    "def geom_k_nearest_neighbor(df, given_point, k, distance='l2', p=None):\n",
    "    df2 = nearest_neighbor(df, given_point, distance, p)\n",
    "    top_k_values = df2.loc[:k - 1]['g']\n",
    "    product = 1\n",
    "    for i in top_k_values:\n",
    "        product *= i\n",
    "    expected_gpa = product ** (1 / k)\n",
    "    return (expected_gpa)"
   ]
  },
  {
   "cell_type": "code",
   "execution_count": 9,
   "metadata": {},
   "outputs": [],
   "source": [
    "def weight(d, p):\n",
    "    weighted = 1 / (d ** p)\n",
    "    return (weighted)"
   ]
  },
  {
   "cell_type": "code",
   "execution_count": 10,
   "metadata": {},
   "outputs": [],
   "source": [
    "def weighted_k_nearest_neighbor(df, given_point, k, p, distance='l2'):\n",
    "    df2 = nearest_neighbor(df, given_point, distance, p)\n",
    "    top_k_values = df2.loc[:k - 1]['g']\n",
    "    \n",
    "    numerator = 0\n",
    "    for i in top_k_values:\n",
    "        numerator += weight(i, p) * i\n",
    "    \n",
    "    denominator = 0\n",
    "    for i in top_k_values:\n",
    "        denominator += weight(i, p)\n",
    "\n",
    "    expected_gpa = numerator / denominator\n",
    "    return (expected_gpa)"
   ]
  },
  {
   "attachments": {},
   "cell_type": "markdown",
   "metadata": {},
   "source": [
    "### 1. According to the nearest neighbor algorithm where Euclidean L2 distance is used, what is the expected GPA if x = 2 and y = 4?"
   ]
  },
  {
   "cell_type": "code",
   "execution_count": 11,
   "metadata": {},
   "outputs": [
    {
     "name": "stdout",
     "output_type": "stream",
     "text": [
      "Expected GPA:  3.0\n"
     ]
    }
   ],
   "source": [
    "given_point = [2,4]\n",
    "df1 = nearest_neighbor(df, given_point)\n",
    "print(\"Expected GPA: \", np.round(df1.loc[0]['g'], 3))"
   ]
  },
  {
   "attachments": {},
   "cell_type": "markdown",
   "metadata": {},
   "source": [
    "### 2. According to the (k = 3)-NN algorithm where Euclidean L2 distance is used, what is the expected GPA if x = 2 and y = 4?"
   ]
  },
  {
   "cell_type": "code",
   "execution_count": 12,
   "metadata": {},
   "outputs": [
    {
     "name": "stdout",
     "output_type": "stream",
     "text": [
      "Expected GPA:  3.0\n"
     ]
    }
   ],
   "source": [
    "given_point = [2,4]\n",
    "expected_gpa_q2 = k_nearest_neighbor(df, given_point, k=3)\n",
    "print(\"Expected GPA: \", np.round(expected_gpa_q2, 3))\n"
   ]
  },
  {
   "attachments": {},
   "cell_type": "markdown",
   "metadata": {},
   "source": [
    "### 3. According to the (k = 5)-NN algorithm where Euclidean L2 distance is used, what is the expected GPA if x = 2 and y = 4?"
   ]
  },
  {
   "cell_type": "code",
   "execution_count": 13,
   "metadata": {},
   "outputs": [
    {
     "name": "stdout",
     "output_type": "stream",
     "text": [
      "Expected GPA:  3.0\n"
     ]
    }
   ],
   "source": [
    "given_point = [2,4]\n",
    "expected_gpa_q3 = k_nearest_neighbor(df, given_point, k=5)\n",
    "print(\"Expected GPA: \", np.round(expected_gpa_q3, 3))"
   ]
  },
  {
   "attachments": {},
   "cell_type": "markdown",
   "metadata": {},
   "source": [
    "### 4. According to the geometric average (k = 3)-NN algorithm where Euclidean L2 distance is used, what is the expected GPA if x = 2 and y = 4?"
   ]
  },
  {
   "cell_type": "code",
   "execution_count": 14,
   "metadata": {},
   "outputs": [
    {
     "name": "stdout",
     "output_type": "stream",
     "text": [
      "Expected GPA:  3.0\n"
     ]
    }
   ],
   "source": [
    "given_point = [2,4]\n",
    "expected_gpa_q4 = geom_k_nearest_neighbor(df, given_point, k=3)\n",
    "print(\"Expected GPA: \", np.round(expected_gpa_q4, 3))"
   ]
  },
  {
   "attachments": {},
   "cell_type": "markdown",
   "metadata": {},
   "source": [
    "### 5. According to the arithmetic-geometric average (k = 3)-NN algorithm where Euclidean L2 distance is used, what is the expected GPA if x = 2 and y = 4?"
   ]
  },
  {
   "cell_type": "code",
   "execution_count": 15,
   "metadata": {},
   "outputs": [
    {
     "name": "stdout",
     "output_type": "stream",
     "text": [
      "Expected GPA:  3.0\n"
     ]
    }
   ],
   "source": [
    "given_point = [2,4]\n",
    "expected_gpa_q5 = geom_k_nearest_neighbor(df, given_point, k=3)\n",
    "print(\"Expected GPA: \", np.round(expected_gpa_q5, 3))"
   ]
  },
  {
   "attachments": {},
   "cell_type": "markdown",
   "metadata": {},
   "source": [
    "### 6. According to the (p = 2) distance weighted (k = 5)-NN algorithm where Euclidean L2 distance is used, what is the expected GPA if x = 2 and y = 4?"
   ]
  },
  {
   "cell_type": "code",
   "execution_count": 16,
   "metadata": {},
   "outputs": [
    {
     "name": "stdout",
     "output_type": "stream",
     "text": [
      "Expected GPA:  2.71\n"
     ]
    }
   ],
   "source": [
    "p = 2\n",
    "k = 5\n",
    "given_point = [2,4]\n",
    "expected_gpa_q6 = weighted_k_nearest_neighbor(df, given_point, k, p)\n",
    "print(\"Expected GPA: \", np.round(expected_gpa_q6, 3))"
   ]
  },
  {
   "attachments": {},
   "cell_type": "markdown",
   "metadata": {},
   "source": [
    "### 7. According to the (p = 3) distance weighted (k = 5)-NN algorithm where Euclidean L2 distance is used, what is the expected GPA if x = 2 and y = 4?"
   ]
  },
  {
   "cell_type": "code",
   "execution_count": 17,
   "metadata": {},
   "outputs": [
    {
     "name": "stdout",
     "output_type": "stream",
     "text": [
      "Expected GPA:  2.566\n"
     ]
    }
   ],
   "source": [
    "p = 3\n",
    "k = 5\n",
    "given_point = [2,4]\n",
    "expected_gpa_q7 = weighted_k_nearest_neighbor(df, given_point, k, p)\n",
    "print(\"Expected GPA: \", np.round(expected_gpa_q7, 3))"
   ]
  },
  {
   "attachments": {},
   "cell_type": "markdown",
   "metadata": {},
   "source": [
    "### 8. According to the (k = 3)-NN algorithm where Manhattan L1 distance is used, what is the expected GPA if x = 6 and y = 2?"
   ]
  },
  {
   "cell_type": "code",
   "execution_count": 18,
   "metadata": {},
   "outputs": [
    {
     "name": "stdout",
     "output_type": "stream",
     "text": [
      "Expected GPA:  3.0\n"
     ]
    }
   ],
   "source": [
    "p = 2\n",
    "k = 3\n",
    "given_point = [2,4]\n",
    "expected_gpa_q8 = weighted_k_nearest_neighbor(df, given_point, k, p)\n",
    "print(\"Expected GPA: \", np.round(expected_gpa_q8, 3))"
   ]
  },
  {
   "attachments": {},
   "cell_type": "markdown",
   "metadata": {},
   "source": [
    "### 9. According to the (k = 5)-NN algorithm where Manhattan L1 distance is used, what is the expected GPA if x = 6 and y = 2?"
   ]
  },
  {
   "cell_type": "code",
   "execution_count": 19,
   "metadata": {},
   "outputs": [
    {
     "name": "stdout",
     "output_type": "stream",
     "text": [
      "Expected GPA:  2.2\n"
     ]
    }
   ],
   "source": [
    "k = 5\n",
    "given_point = [6,2]\n",
    "expected_gpa_q9 = k_nearest_neighbor(df, given_point, k, p=None, distance='l1')\n",
    "print(\"Expected GPA: \", np.round(expected_gpa_q9, 3))"
   ]
  },
  {
   "attachments": {},
   "cell_type": "markdown",
   "metadata": {},
   "source": [
    "### 10. According to the (p = 2) distance weighted (k = 5)-NN algorithm where Manhattan L1 distance is used, what is the expected GPA if x = 6 and y = 2?"
   ]
  },
  {
   "cell_type": "code",
   "execution_count": 20,
   "metadata": {},
   "outputs": [
    {
     "name": "stdout",
     "output_type": "stream",
     "text": [
      "Expected GPA:  1.548\n"
     ]
    }
   ],
   "source": [
    "p = 2\n",
    "k = 5\n",
    "given_point = [6,2]\n",
    "expected_gpa_q10 = weighted_k_nearest_neighbor(df, given_point, k, p, distance='l1')\n",
    "print(\"Expected GPA: \", np.round(expected_gpa_q10, 3))"
   ]
  },
  {
   "attachments": {},
   "cell_type": "markdown",
   "metadata": {},
   "source": [
    "### 11. What does the (p = 3) distance weighted (k = 5)-NN algorithm classifies a query instance (6, 2) if Manhattan L1 distance is used."
   ]
  },
  {
   "cell_type": "code",
   "execution_count": 21,
   "metadata": {},
   "outputs": [
    {
     "name": "stdout",
     "output_type": "stream",
     "text": [
      "Expected GPA:  1.301\n"
     ]
    }
   ],
   "source": [
    "p = 3\n",
    "k = 5\n",
    "given_point = [6,2]\n",
    "expected_gpa_q11 = weighted_k_nearest_neighbor(df, given_point, k, p, distance='l1')\n",
    "print(\"Expected GPA: \", np.round(expected_gpa_q11, 3))"
   ]
  },
  {
   "attachments": {},
   "cell_type": "markdown",
   "metadata": {},
   "source": [
    "### 12. According to the (k = 3)-NN algorithm where Minkowski (p = 3) L3 distance is used, what is the expected GPA if x = 6 and y = 2?"
   ]
  },
  {
   "cell_type": "code",
   "execution_count": 22,
   "metadata": {},
   "outputs": [
    {
     "name": "stdout",
     "output_type": "stream",
     "text": [
      "Expected GPA:  2.129\n"
     ]
    },
    {
     "name": "stderr",
     "output_type": "stream",
     "text": [
      "/var/folders/n9/3mjn__fd1xd66lc1zh9nlj0h0000gp/T/ipykernel_19617/879424598.py:6: RuntimeWarning: invalid value encountered in power\n",
      "  d_sum = (((x[i] - y[i]) ** p) + ((given_point[0] - given_point[1]) ** p)) ** (1 / p)\n"
     ]
    }
   ],
   "source": [
    "p = 3\n",
    "k = 3\n",
    "given_point = [6,2]\n",
    "expected_gpa_q12 = weighted_k_nearest_neighbor(df, given_point, k, p, distance='l3')\n",
    "print(\"Expected GPA: \", np.round(expected_gpa_q12, 3))"
   ]
  },
  {
   "attachments": {},
   "cell_type": "markdown",
   "metadata": {},
   "source": [
    "### 13. Normalize the dataset using the simple min-max normalization."
   ]
  },
  {
   "cell_type": "code",
   "execution_count": 23,
   "metadata": {},
   "outputs": [],
   "source": [
    "scaler = MinMaxScaler()\n",
    "normalized_data = scaler.fit_transform(df.copy())"
   ]
  },
  {
   "cell_type": "code",
   "execution_count": 24,
   "metadata": {},
   "outputs": [],
   "source": [
    "df_normalized = pd.DataFrame(\n",
    "    {\n",
    "        'x':normalized_data[:,0],\n",
    "        'y':normalized_data[:,1],\n",
    "        'g':normalized_data[:,2],\n",
    "    }\n",
    ")"
   ]
  },
  {
   "attachments": {},
   "cell_type": "markdown",
   "metadata": {},
   "source": [
    "### 14. According to the (k = 3)-NN algorithm where Euclidean L2 distance is used on the normalized dataset in Q 13, what is the expected GPA if x = 6 and y = 2?"
   ]
  },
  {
   "cell_type": "code",
   "execution_count": 25,
   "metadata": {},
   "outputs": [
    {
     "name": "stdout",
     "output_type": "stream",
     "text": [
      "Expected GPA:  0.444\n"
     ]
    }
   ],
   "source": [
    "k = 3\n",
    "given_point = [6,2]\n",
    "expected_gpa_q14 = k_nearest_neighbor(df_normalized, given_point, k, distance='l2')\n",
    "print(\"Expected GPA: \", np.round(expected_gpa_q14, 3))"
   ]
  },
  {
   "attachments": {},
   "cell_type": "markdown",
   "metadata": {},
   "source": [
    "### 15. According to the (k = 5)-NN algorithm where Euclidean L2 distance is used on the normalized dataset in Q 13, what is the expected GPA if x = 6 and y = 2?"
   ]
  },
  {
   "cell_type": "code",
   "execution_count": 26,
   "metadata": {},
   "outputs": [
    {
     "name": "stdout",
     "output_type": "stream",
     "text": [
      "Expected GPA:  0.533\n"
     ]
    }
   ],
   "source": [
    "k = 5\n",
    "given_point = [6,2]\n",
    "expected_gpa_q15 = k_nearest_neighbor(df_normalized, given_point, k, distance='l2')\n",
    "print(\"Expected GPA: \", np.round(expected_gpa_q15, 3))"
   ]
  },
  {
   "attachments": {},
   "cell_type": "markdown",
   "metadata": {},
   "source": [
    "### 16. According to the (p = 2) distance weighted (k = 5)-NN algorithm where Euclidean L2 distance is used on the normalized dataset in Q 13, what is the expected GPA if x = 6 and y = 2?"
   ]
  },
  {
   "cell_type": "code",
   "execution_count": 27,
   "metadata": {},
   "outputs": [
    {
     "name": "stdout",
     "output_type": "stream",
     "text": [
      "Expected GPA:  0.424\n"
     ]
    }
   ],
   "source": [
    "p = 2\n",
    "k = 5\n",
    "given_point = [6,2]\n",
    "expected_gpa_q16 = weighted_k_nearest_neighbor(df_normalized, given_point, k, p, distance='l2')\n",
    "print(\"Expected GPA: \", np.round(expected_gpa_q16, 3))"
   ]
  },
  {
   "attachments": {},
   "cell_type": "markdown",
   "metadata": {},
   "source": [
    "### 17. According to the (k = 5)-NN algorithm where Manhattan L1 distance is used on the normalized dataset in Q 13, what is the expected GPA if x = 6 and y = 2?"
   ]
  },
  {
   "cell_type": "code",
   "execution_count": 28,
   "metadata": {},
   "outputs": [
    {
     "ename": "ZeroDivisionError",
     "evalue": "float division by zero",
     "output_type": "error",
     "traceback": [
      "\u001b[0;31m---------------------------------------------------------------------------\u001b[0m",
      "\u001b[0;31mZeroDivisionError\u001b[0m                         Traceback (most recent call last)",
      "\u001b[1;32m/Users/av15397n/Documents/GitHub/CS676-Algorithms-For-Data-Science/HW4/hw4.ipynb Cell 48\u001b[0m in \u001b[0;36m<cell line: 4>\u001b[0;34m()\u001b[0m\n\u001b[1;32m      <a href='vscode-notebook-cell:/Users/av15397n/Documents/GitHub/CS676-Algorithms-For-Data-Science/HW4/hw4.ipynb#X65sZmlsZQ%3D%3D?line=1'>2</a>\u001b[0m k \u001b[39m=\u001b[39m \u001b[39m5\u001b[39m\n\u001b[1;32m      <a href='vscode-notebook-cell:/Users/av15397n/Documents/GitHub/CS676-Algorithms-For-Data-Science/HW4/hw4.ipynb#X65sZmlsZQ%3D%3D?line=2'>3</a>\u001b[0m given_point \u001b[39m=\u001b[39m [\u001b[39m6\u001b[39m,\u001b[39m2\u001b[39m]\n\u001b[0;32m----> <a href='vscode-notebook-cell:/Users/av15397n/Documents/GitHub/CS676-Algorithms-For-Data-Science/HW4/hw4.ipynb#X65sZmlsZQ%3D%3D?line=3'>4</a>\u001b[0m expected_gpa_q17 \u001b[39m=\u001b[39m weighted_k_nearest_neighbor(df_normalized, given_point, k, p, distance\u001b[39m=\u001b[39;49m\u001b[39m'\u001b[39;49m\u001b[39ml1\u001b[39;49m\u001b[39m'\u001b[39;49m)\n\u001b[1;32m      <a href='vscode-notebook-cell:/Users/av15397n/Documents/GitHub/CS676-Algorithms-For-Data-Science/HW4/hw4.ipynb#X65sZmlsZQ%3D%3D?line=4'>5</a>\u001b[0m \u001b[39mprint\u001b[39m(\u001b[39m\"\u001b[39m\u001b[39mExpected GPA: \u001b[39m\u001b[39m\"\u001b[39m, np\u001b[39m.\u001b[39mround(expected_gpa_q17, \u001b[39m3\u001b[39m))\n",
      "\u001b[1;32m/Users/av15397n/Documents/GitHub/CS676-Algorithms-For-Data-Science/HW4/hw4.ipynb Cell 48\u001b[0m in \u001b[0;36mweighted_k_nearest_neighbor\u001b[0;34m(df, given_point, k, p, distance)\u001b[0m\n\u001b[1;32m      <a href='vscode-notebook-cell:/Users/av15397n/Documents/GitHub/CS676-Algorithms-For-Data-Science/HW4/hw4.ipynb#X65sZmlsZQ%3D%3D?line=4'>5</a>\u001b[0m numerator \u001b[39m=\u001b[39m \u001b[39m0\u001b[39m\n\u001b[1;32m      <a href='vscode-notebook-cell:/Users/av15397n/Documents/GitHub/CS676-Algorithms-For-Data-Science/HW4/hw4.ipynb#X65sZmlsZQ%3D%3D?line=5'>6</a>\u001b[0m \u001b[39mfor\u001b[39;00m i \u001b[39min\u001b[39;00m top_k_values:\n\u001b[0;32m----> <a href='vscode-notebook-cell:/Users/av15397n/Documents/GitHub/CS676-Algorithms-For-Data-Science/HW4/hw4.ipynb#X65sZmlsZQ%3D%3D?line=6'>7</a>\u001b[0m     numerator \u001b[39m+\u001b[39m\u001b[39m=\u001b[39m weight(i, p) \u001b[39m*\u001b[39m i\n\u001b[1;32m      <a href='vscode-notebook-cell:/Users/av15397n/Documents/GitHub/CS676-Algorithms-For-Data-Science/HW4/hw4.ipynb#X65sZmlsZQ%3D%3D?line=8'>9</a>\u001b[0m denominator \u001b[39m=\u001b[39m \u001b[39m0\u001b[39m\n\u001b[1;32m     <a href='vscode-notebook-cell:/Users/av15397n/Documents/GitHub/CS676-Algorithms-For-Data-Science/HW4/hw4.ipynb#X65sZmlsZQ%3D%3D?line=9'>10</a>\u001b[0m \u001b[39mfor\u001b[39;00m i \u001b[39min\u001b[39;00m top_k_values:\n",
      "\u001b[1;32m/Users/av15397n/Documents/GitHub/CS676-Algorithms-For-Data-Science/HW4/hw4.ipynb Cell 48\u001b[0m in \u001b[0;36mweight\u001b[0;34m(d, p)\u001b[0m\n\u001b[1;32m      <a href='vscode-notebook-cell:/Users/av15397n/Documents/GitHub/CS676-Algorithms-For-Data-Science/HW4/hw4.ipynb#X65sZmlsZQ%3D%3D?line=0'>1</a>\u001b[0m \u001b[39mdef\u001b[39;00m \u001b[39mweight\u001b[39m(d, p):\n\u001b[0;32m----> <a href='vscode-notebook-cell:/Users/av15397n/Documents/GitHub/CS676-Algorithms-For-Data-Science/HW4/hw4.ipynb#X65sZmlsZQ%3D%3D?line=1'>2</a>\u001b[0m     weighted \u001b[39m=\u001b[39m \u001b[39m1\u001b[39;49m \u001b[39m/\u001b[39;49m (d \u001b[39m*\u001b[39;49m\u001b[39m*\u001b[39;49m p)\n\u001b[1;32m      <a href='vscode-notebook-cell:/Users/av15397n/Documents/GitHub/CS676-Algorithms-For-Data-Science/HW4/hw4.ipynb#X65sZmlsZQ%3D%3D?line=2'>3</a>\u001b[0m     \u001b[39mreturn\u001b[39;00m (weighted)\n",
      "\u001b[0;31mZeroDivisionError\u001b[0m: float division by zero"
     ]
    }
   ],
   "source": [
    "p = 2\n",
    "k = 5\n",
    "given_point = [6,2]\n",
    "expected_gpa_q17 = weighted_k_nearest_neighbor(df_normalized, given_point, k, p, distance='l1')\n",
    "print(\"Expected GPA: \", np.round(expected_gpa_q17, 3))"
   ]
  },
  {
   "attachments": {},
   "cell_type": "markdown",
   "metadata": {},
   "source": [
    "### 18. Using the leave one out method, find the residual, R2 of the nearest neighbor algorithm."
   ]
  },
  {
   "attachments": {},
   "cell_type": "markdown",
   "metadata": {},
   "source": [
    "### 19. Using the leave one out method, find the residual, R2 of the (k = 3)-NN algorithm."
   ]
  },
  {
   "attachments": {},
   "cell_type": "markdown",
   "metadata": {},
   "source": [
    "### 20. Using the leave one out method, find the adjusted R2, R¯2 of the (p = 2) distance weighted (k = 3)-NN algorithm."
   ]
  }
 ],
 "metadata": {
  "kernelspec": {
   "display_name": "Python 3",
   "language": "python",
   "name": "python3"
  },
  "language_info": {
   "codemirror_mode": {
    "name": "ipython",
    "version": 3
   },
   "file_extension": ".py",
   "mimetype": "text/x-python",
   "name": "python",
   "nbconvert_exporter": "python",
   "pygments_lexer": "ipython3",
   "version": "3.10.5"
  },
  "orig_nbformat": 4,
  "vscode": {
   "interpreter": {
    "hash": "aee8b7b246df8f9039afb4144a1f6fd8d2ca17a180786b69acc140d282b71a49"
   }
  }
 },
 "nbformat": 4,
 "nbformat_minor": 2
}
